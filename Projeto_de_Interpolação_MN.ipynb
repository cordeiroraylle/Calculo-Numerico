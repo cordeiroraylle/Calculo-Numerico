{
  "nbformat": 4,
  "nbformat_minor": 0,
  "metadata": {
    "colab": {
      "name": "Projeto de Interpolação - MN.ipynb",
      "version": "0.3.2",
      "provenance": [],
      "collapsed_sections": [
        "QIYjGYQY4yv0",
        "jVB_PPAw45dU",
        "S2IaQwFM4-sq",
        "dsP13YI9NJ-k",
        "eWITM6c4ijv-",
        "zOmaR-h1Uwx1",
        "2uULK_YQVFW4"
      ],
      "include_colab_link": true
    },
    "kernelspec": {
      "name": "python3",
      "display_name": "Python 3"
    }
  },
  "cells": [
    {
      "cell_type": "markdown",
      "metadata": {
        "id": "view-in-github",
        "colab_type": "text"
      },
      "source": [
        "<a href=\"https://colab.research.google.com/github/cordeiroraylle/Calculo-Numerico/blob/master/Projeto_de_Interpola%C3%A7%C3%A3o_MN.ipynb\" target=\"_parent\"><img src=\"https://colab.research.google.com/assets/colab-badge.svg\" alt=\"Open In Colab\"/></a>"
      ]
    },
    {
      "cell_type": "markdown",
      "metadata": {
        "id": "QIYjGYQY4yv0",
        "colab_type": "text"
      },
      "source": [
        "# Projeto de Interpolação\n",
        "Métodos Numéricos - 2019.2\n",
        "\n",
        "Raylle Cordeiro - 20172610014"
      ]
    },
    {
      "cell_type": "markdown",
      "metadata": {
        "id": "zFbvYqAq5Guw",
        "colab_type": "text"
      },
      "source": [
        "**Fonte:** https://www.kaggle.com/taniaj/gender-development-inequality\n",
        "\n",
        "**Descrição:** De acordo com o Relatório de Desenvolvimento Humano, pelo Programa de Desenvolvimento das Nações Unidas, temos um dataset exibindo a relação de IDH de 188 paises e o indice de Desenvolvimento por Genero.  Esse dataset mede a disparidade do IDH por genero, quanto mais perto de 1 menor é a diferença entre homens e mulheres. Com essa analise, podemos analisar como o paises com posições mais altas no Rank de IDH possuem uma disparidade de genero menor.\n",
        "\n",
        "Nesse caso, durante alguns anos não foi exibido dados para alguns paises, assim, para essa regressão foi utilizada essa planilha alternativa:\n",
        "https://github.com/cordeiroraylle/Calculo-Numerico/blob/master/gender_development_index_4.csv\n",
        "\n",
        "\n",
        "Os dados (amostra) foram coletados em 188 paises do Mundo\n",
        "\n",
        "\n",
        "**Dados:**\n",
        "\n",
        "* **HDI_Rank_2015**\t- Rank de IDH em 2016\n",
        "\n",
        "* **Country** - Paises envolvidos no estudo\n",
        "\n",
        "* **2000**\t-  Ano em que os dados de disparidade por genero são exibidos\n",
        "\n",
        "* **2005**\t-  Ano em que os dados de disparidade por genero são exibidos\n",
        "\n",
        "* **2010**\t-  Ano em que os dados de disparidade por genero são exibidos\n",
        "\n",
        "* **2011**\t-  Ano em que os dados de disparidade por genero são exibidos\n",
        "\n",
        "* **2012**\t-  Ano em que os dados de disparidade por genero são exibidos\n",
        "\n",
        "* **2013**\t-  Ano em que os dados de disparidade por genero são exibidos\n",
        "\n",
        "* **2014**\t-  Ano em que os dados de disparidade por genero são exibidos\n",
        "\n",
        "\n"
      ]
    },
    {
      "cell_type": "markdown",
      "metadata": {
        "id": "MoF1jzRDiTVf",
        "colab_type": "text"
      },
      "source": [
        "#Interpolação"
      ]
    },
    {
      "cell_type": "markdown",
      "metadata": {
        "id": "KuR2Z6XhiYIj",
        "colab_type": "text"
      },
      "source": [
        " A interpolação o método que permite construir um novo conjunto de dados a partir de um conjunto discreto de dados pontuais previamente conhecidos, ou seja, ela nos permite aproximar os valores dos conjuntos discretos.\n",
        " \n",
        "\n",
        "---\n",
        "\n",
        " Nesse projeto utilizaremos os métodos de **Newton, Lagrange e Spline.**"
      ]
    },
    {
      "cell_type": "markdown",
      "metadata": {
        "id": "jVB_PPAw45dU",
        "colab_type": "text"
      },
      "source": [
        "# Importando bibliotecas\n"
      ]
    },
    {
      "cell_type": "code",
      "metadata": {
        "id": "B3KEvwj25cep",
        "colab_type": "code",
        "outputId": "757c61e7-aeb6-47da-c510-20fdc6deb15a",
        "colab": {
          "base_uri": "https://localhost:8080/",
          "height": 164
        }
      },
      "source": [
        "pip install matplotlib"
      ],
      "execution_count": 0,
      "outputs": [
        {
          "output_type": "stream",
          "text": [
            "Requirement already satisfied: matplotlib in /usr/local/lib/python3.6/dist-packages (3.0.3)\n",
            "Requirement already satisfied: cycler>=0.10 in /usr/local/lib/python3.6/dist-packages (from matplotlib) (0.10.0)\n",
            "Requirement already satisfied: pyparsing!=2.0.4,!=2.1.2,!=2.1.6,>=2.0.1 in /usr/local/lib/python3.6/dist-packages (from matplotlib) (2.4.0)\n",
            "Requirement already satisfied: numpy>=1.10.0 in /usr/local/lib/python3.6/dist-packages (from matplotlib) (1.16.4)\n",
            "Requirement already satisfied: kiwisolver>=1.0.1 in /usr/local/lib/python3.6/dist-packages (from matplotlib) (1.1.0)\n",
            "Requirement already satisfied: python-dateutil>=2.1 in /usr/local/lib/python3.6/dist-packages (from matplotlib) (2.5.3)\n",
            "Requirement already satisfied: six in /usr/local/lib/python3.6/dist-packages (from cycler>=0.10->matplotlib) (1.12.0)\n",
            "Requirement already satisfied: setuptools in /usr/local/lib/python3.6/dist-packages (from kiwisolver>=1.0.1->matplotlib) (41.0.1)\n"
          ],
          "name": "stdout"
        }
      ]
    },
    {
      "cell_type": "code",
      "metadata": {
        "id": "em09TcRlTruv",
        "colab_type": "code",
        "colab": {}
      },
      "source": [
        "import pandas as pd\n",
        "import numpy as np\n",
        "from numpy.polynomial import Polynomial as P\n",
        "from numpy import polynomial\n",
        "import matplotlib.pyplot as plot \n",
        "from bisect import bisect\n",
        "\n"
      ],
      "execution_count": 0,
      "outputs": []
    },
    {
      "cell_type": "markdown",
      "metadata": {
        "id": "S2IaQwFM4-sq",
        "colab_type": "text"
      },
      "source": [
        "# Importando o dataset"
      ]
    },
    {
      "cell_type": "code",
      "metadata": {
        "id": "ikhp5gg7sma5",
        "colab_type": "code",
        "outputId": "7a38a0a8-493e-49db-f667-a0b0424d7482",
        "colab": {
          "resources": {
            "http://localhost:8080/nbextensions/google.colab/files.js": {
              "data": "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",
              "ok": true,
              "headers": [
                [
                  "content-type",
                  "application/javascript"
                ]
              ],
              "status": 200,
              "status_text": "OK"
            }
          },
          "base_uri": "https://localhost:8080/",
          "height": 77
        }
      },
      "source": [
        "from google.colab import files\n",
        "uploaded = files.upload()"
      ],
      "execution_count": 0,
      "outputs": [
        {
          "output_type": "display_data",
          "data": {
            "text/html": [
              "\n",
              "     <input type=\"file\" id=\"files-a74ee72c-e83d-482b-bc3d-61eef13aeba0\" name=\"files[]\" multiple disabled />\n",
              "     <output id=\"result-a74ee72c-e83d-482b-bc3d-61eef13aeba0\">\n",
              "      Upload widget is only available when the cell has been executed in the\n",
              "      current browser session. Please rerun this cell to enable.\n",
              "      </output>\n",
              "      <script src=\"/nbextensions/google.colab/files.js\"></script> "
            ],
            "text/plain": [
              "<IPython.core.display.HTML object>"
            ]
          },
          "metadata": {
            "tags": []
          }
        },
        {
          "output_type": "stream",
          "text": [
            "Saving gender_development_index_4.csv to gender_development_index_4 (2).csv\n"
          ],
          "name": "stdout"
        }
      ]
    },
    {
      "cell_type": "code",
      "metadata": {
        "id": "SWdr6Vtns6lX",
        "colab_type": "code",
        "colab": {}
      },
      "source": [
        "dados = pd.read_csv(\"gender_development_index_4.csv\")"
      ],
      "execution_count": 0,
      "outputs": []
    },
    {
      "cell_type": "markdown",
      "metadata": {
        "id": "C2Y1U0yF5CeA",
        "colab_type": "text"
      },
      "source": [
        "#Visualisando dados"
      ]
    },
    {
      "cell_type": "code",
      "metadata": {
        "id": "Dare0dC2s-JE",
        "colab_type": "code",
        "outputId": "65001685-64bb-444c-dc75-84454f87f9d0",
        "colab": {
          "base_uri": "https://localhost:8080/",
          "height": 363
        }
      },
      "source": [
        "dados.head(10)"
      ],
      "execution_count": 0,
      "outputs": [
        {
          "output_type": "execute_result",
          "data": {
            "text/html": [
              "<div>\n",
              "<style scoped>\n",
              "    .dataframe tbody tr th:only-of-type {\n",
              "        vertical-align: middle;\n",
              "    }\n",
              "\n",
              "    .dataframe tbody tr th {\n",
              "        vertical-align: top;\n",
              "    }\n",
              "\n",
              "    .dataframe thead th {\n",
              "        text-align: right;\n",
              "    }\n",
              "</style>\n",
              "<table border=\"1\" class=\"dataframe\">\n",
              "  <thead>\n",
              "    <tr style=\"text-align: right;\">\n",
              "      <th></th>\n",
              "      <th>HDI_Rank_2015</th>\n",
              "      <th>Country</th>\n",
              "      <th>2000</th>\n",
              "      <th>2005</th>\n",
              "      <th>2010</th>\n",
              "      <th>2011</th>\n",
              "      <th>2012</th>\n",
              "      <th>2013</th>\n",
              "      <th>2014</th>\n",
              "      <th>ano_2015</th>\n",
              "    </tr>\n",
              "  </thead>\n",
              "  <tbody>\n",
              "    <tr>\n",
              "      <th>0</th>\n",
              "      <td>169</td>\n",
              "      <td>Afghanistan</td>\n",
              "      <td>0.282</td>\n",
              "      <td>0.481</td>\n",
              "      <td>0.580</td>\n",
              "      <td>0.594</td>\n",
              "      <td>0.602</td>\n",
              "      <td>0.607</td>\n",
              "      <td>0.609</td>\n",
              "      <td>0.609</td>\n",
              "    </tr>\n",
              "    <tr>\n",
              "      <th>1</th>\n",
              "      <td>75</td>\n",
              "      <td>Albania</td>\n",
              "      <td>0.936</td>\n",
              "      <td>0.944</td>\n",
              "      <td>0.959</td>\n",
              "      <td>0.957</td>\n",
              "      <td>0.960</td>\n",
              "      <td>0.960</td>\n",
              "      <td>0.960</td>\n",
              "      <td>0.959</td>\n",
              "    </tr>\n",
              "    <tr>\n",
              "      <th>2</th>\n",
              "      <td>83</td>\n",
              "      <td>Algeria</td>\n",
              "      <td>0.788</td>\n",
              "      <td>0.815</td>\n",
              "      <td>0.845</td>\n",
              "      <td>0.845</td>\n",
              "      <td>0.845</td>\n",
              "      <td>0.847</td>\n",
              "      <td>0.849</td>\n",
              "      <td>0.854</td>\n",
              "    </tr>\n",
              "    <tr>\n",
              "      <th>3</th>\n",
              "      <td>45</td>\n",
              "      <td>Argentina</td>\n",
              "      <td>0.981</td>\n",
              "      <td>1.001</td>\n",
              "      <td>0.998</td>\n",
              "      <td>0.987</td>\n",
              "      <td>0.989</td>\n",
              "      <td>0.989</td>\n",
              "      <td>0.983</td>\n",
              "      <td>0.982</td>\n",
              "    </tr>\n",
              "    <tr>\n",
              "      <th>4</th>\n",
              "      <td>84</td>\n",
              "      <td>Armenia</td>\n",
              "      <td>0.947</td>\n",
              "      <td>0.976</td>\n",
              "      <td>1.002</td>\n",
              "      <td>1.003</td>\n",
              "      <td>1.000</td>\n",
              "      <td>0.998</td>\n",
              "      <td>0.995</td>\n",
              "      <td>0.993</td>\n",
              "    </tr>\n",
              "    <tr>\n",
              "      <th>5</th>\n",
              "      <td>2</td>\n",
              "      <td>Australia</td>\n",
              "      <td>0.962</td>\n",
              "      <td>0.969</td>\n",
              "      <td>0.977</td>\n",
              "      <td>0.977</td>\n",
              "      <td>0.979</td>\n",
              "      <td>0.979</td>\n",
              "      <td>0.979</td>\n",
              "      <td>0.978</td>\n",
              "    </tr>\n",
              "    <tr>\n",
              "      <th>6</th>\n",
              "      <td>24</td>\n",
              "      <td>Austria</td>\n",
              "      <td>0.933</td>\n",
              "      <td>0.936</td>\n",
              "      <td>0.944</td>\n",
              "      <td>0.947</td>\n",
              "      <td>0.950</td>\n",
              "      <td>0.953</td>\n",
              "      <td>0.955</td>\n",
              "      <td>0.957</td>\n",
              "    </tr>\n",
              "    <tr>\n",
              "      <th>7</th>\n",
              "      <td>78</td>\n",
              "      <td>Azerbaijan</td>\n",
              "      <td>0.951</td>\n",
              "      <td>0.922</td>\n",
              "      <td>0.950</td>\n",
              "      <td>0.945</td>\n",
              "      <td>0.941</td>\n",
              "      <td>0.943</td>\n",
              "      <td>0.956</td>\n",
              "      <td>0.940</td>\n",
              "    </tr>\n",
              "    <tr>\n",
              "      <th>8</th>\n",
              "      <td>47</td>\n",
              "      <td>Bahrain</td>\n",
              "      <td>0.932</td>\n",
              "      <td>0.956</td>\n",
              "      <td>0.968</td>\n",
              "      <td>0.969</td>\n",
              "      <td>0.970</td>\n",
              "      <td>0.971</td>\n",
              "      <td>0.971</td>\n",
              "      <td>0.970</td>\n",
              "    </tr>\n",
              "    <tr>\n",
              "      <th>9</th>\n",
              "      <td>139</td>\n",
              "      <td>Bangladesh</td>\n",
              "      <td>0.835</td>\n",
              "      <td>0.868</td>\n",
              "      <td>0.904</td>\n",
              "      <td>0.916</td>\n",
              "      <td>0.970</td>\n",
              "      <td>0.925</td>\n",
              "      <td>0.926</td>\n",
              "      <td>0.927</td>\n",
              "    </tr>\n",
              "  </tbody>\n",
              "</table>\n",
              "</div>"
            ],
            "text/plain": [
              "   HDI_Rank_2015       Country   2000   2005  ...   2012   2013   2014  ano_2015\n",
              "0            169   Afghanistan  0.282  0.481  ...  0.602  0.607  0.609     0.609\n",
              "1             75       Albania  0.936  0.944  ...  0.960  0.960  0.960     0.959\n",
              "2             83       Algeria  0.788  0.815  ...  0.845  0.847  0.849     0.854\n",
              "3             45     Argentina  0.981  1.001  ...  0.989  0.989  0.983     0.982\n",
              "4             84       Armenia  0.947  0.976  ...  1.000  0.998  0.995     0.993\n",
              "5              2     Australia  0.962  0.969  ...  0.979  0.979  0.979     0.978\n",
              "6             24       Austria  0.933  0.936  ...  0.950  0.953  0.955     0.957\n",
              "7             78    Azerbaijan  0.951  0.922  ...  0.941  0.943  0.956     0.940\n",
              "8             47       Bahrain  0.932  0.956  ...  0.970  0.971  0.971     0.970\n",
              "9            139    Bangladesh  0.835  0.868  ...  0.970  0.925  0.926     0.927\n",
              "\n",
              "[10 rows x 10 columns]"
            ]
          },
          "metadata": {
            "tags": []
          },
          "execution_count": 80
        }
      ]
    },
    {
      "cell_type": "code",
      "metadata": {
        "id": "7DwI7oRgSrXn",
        "colab_type": "code",
        "outputId": "3621bd45-07d0-492f-9da1-3a3c30c176b1",
        "colab": {
          "base_uri": "https://localhost:8080/",
          "height": 201
        }
      },
      "source": [
        "dados= np.array([[169, 0.609], [75,0.959], [83, 0.854], [45, 0.982],[84,0.993],[2,0.978],[24,0.957],[78,0.940],[47,0.970],[139,0.927]])\n",
        "dados\n"
      ],
      "execution_count": 0,
      "outputs": [
        {
          "output_type": "execute_result",
          "data": {
            "text/plain": [
              "array([[169.   ,   0.609],\n",
              "       [ 75.   ,   0.959],\n",
              "       [ 83.   ,   0.854],\n",
              "       [ 45.   ,   0.982],\n",
              "       [ 84.   ,   0.993],\n",
              "       [  2.   ,   0.978],\n",
              "       [ 24.   ,   0.957],\n",
              "       [ 78.   ,   0.94 ],\n",
              "       [ 47.   ,   0.97 ],\n",
              "       [139.   ,   0.927]])"
            ]
          },
          "metadata": {
            "tags": []
          },
          "execution_count": 81
        }
      ]
    },
    {
      "cell_type": "code",
      "metadata": {
        "id": "9JPkWKBflUVj",
        "colab_type": "code",
        "outputId": "26e1fa81-7127-4feb-b6e2-e47af1369e0d",
        "colab": {
          "base_uri": "https://localhost:8080/",
          "height": 378
        }
      },
      "source": [
        "plot.figure(figsize=(12,6))\n",
        "plot.plot(dados,'*')\n",
        "plot.show()"
      ],
      "execution_count": 0,
      "outputs": [
        {
          "output_type": "display_data",
          "data": {
            "image/png": "[encoded data removed]",
            "text/plain": [
              "<Figure size 864x432 with 1 Axes>"
            ]
          },
          "metadata": {
            "tags": []
          }
        }
      ]
    },
    {
      "cell_type": "markdown",
      "metadata": {
        "id": "dsP13YI9NJ-k",
        "colab_type": "text"
      },
      "source": [
        "# Método de Newton"
      ]
    },
    {
      "cell_type": "markdown",
      "metadata": {
        "id": "vvwM-xAe5zfq",
        "colab_type": "text"
      },
      "source": [
        "Há uma grande variedade de formas alternativas para expressar um polinômio interpolador, além do formato mais familiar:\n",
        "\n",
        "$$ P_n(x) = a_0 + a_1x + a_2x^2 + ... + a_nx^n $$\n",
        "\n",
        "O polinômio de Newton por diferenças divididas está entre as fórmulas mais populares e úteis. Antes de apresentar a equação geral, será introduzidaa versão de primeiro grau devido à sua interpretação visual mais simples.\n",
        "\n",
        "Esse método é um polinômio interpolador para um dado conjunto de pontos. Os coeficientes do polinômio são calculados através de diferenças divididas.\n",
        "\n",
        "\n",
        "Assim, a **fórmula geral** para o método de Newton é dada por:\n",
        "\n",
        "$$Pn−1=a0+a1(x−x0)+a2(x−x0)(x−x1)+…+an−1(x−x1)(x−x2)…(x−xn−1)$$"
      ]
    },
    {
      "cell_type": "markdown",
      "metadata": {
        "id": "eWITM6c4ijv-",
        "colab_type": "text"
      },
      "source": [
        "##Implementação"
      ]
    },
    {
      "cell_type": "code",
      "metadata": {
        "id": "6ubGoVysNDzR",
        "colab_type": "code",
        "outputId": "d8307f09-c19d-444a-e230-536abdb54444",
        "colab": {
          "base_uri": "https://localhost:8080/",
          "height": 74
        }
      },
      "source": [
        "l = []\n",
        "Pn = 0\n",
        "for i in range(len(dados)):\n",
        "    l.append(dados[i][1])\n",
        "tabela = []\n",
        "tabela.append(l)\n",
        "for i in range(len(dados) - 1):\n",
        "    l = [] \n",
        "    for j in range(len(dados) - i - 1):\n",
        "        dif = (tabela[i][j + 1] - tabela[i][j]) / (dados[j + 1 + i][0] - dados[j][0])\n",
        "        l.append(dif)\n",
        "    tabela.append(l) \n",
        "difdiv = []  \n",
        "for i in range(len(tabela)):\n",
        "    difdiv.append(tabela[i][0])\n",
        "\n",
        "somatorio = 0\n",
        "for i in range(1, len(dados)):\n",
        "    produtorio = 1\n",
        "    for k in range(i): \n",
        "        produtorio *= (P([-dados[k][0], 1])) \n",
        "    somatorio += difdiv[i] * produtorio\n",
        "Pn = difdiv[0] + somatorio\n",
        "funcao = list(Pn)  \n",
        "texto = \"\"\n",
        "for i in range(len(funcao)):\n",
        "    if funcao[i] == 0:\n",
        "        continue\n",
        "    elif i == 0:\n",
        "        texto += str(funcao[i])\n",
        "    else:\n",
        "        texto += \" + \" + str(funcao[i])\n",
        "        texto += (\"*x^%o\" % (i))\n",
        "print(\"Pn(x) :\")\n",
        "print(texto)"
      ],
      "execution_count": 0,
      "outputs": [
        {
          "output_type": "stream",
          "text": [
            "Pn(x) :\n",
            "-106.62186318903191 + 68.49065514675725*x^1 + -8.172822671299778*x^2 + 0.43900636253410424*x^3 + -0.013097612480873365*x^4 + 0.00023493408293133342*x^5 + -2.5871664430804308e-06*x^6 + 1.7061283853265903e-08*x^7 + -6.154584225651297e-11*x^10 + 9.294685567009761e-14*x^11\n"
          ],
          "name": "stdout"
        }
      ]
    },
    {
      "cell_type": "code",
      "metadata": {
        "id": "lUoSoWxSSgb6",
        "colab_type": "code",
        "colab": {}
      },
      "source": [
        "  s = input(\"Deseja calcular Pn(x) dado um valor de x? \\n [S/N]\").lower()  \n",
        "  if s == \"s\":\n",
        "      print(\"Pn(x) em qual ponto?\")\n",
        "      p = float(input())\n",
        "      print(\"Pn(%a) é igual a %a\" % (p, Pn(p)))\n",
        "\n",
        "  s = input(\"Encontrar os valores de x dado um valor de Pn(x)? \\n [S/N]\")  \n",
        "  if s == \"s\":\n",
        "      print(\"Valores de x para qual valor de Pn(x)\")\n",
        "      p = float(input())\n",
        "      print(\"para Pn(x)=%a temos: \" % p, polynomial.polynomial.polyroots(list(Pn - P([p]))),\"Obs: Se houver, j = raiz de menos 1\")\n",
        "  \n",
        "  print(\"(x,Pn(x))\")\n",
        "  for i in range(len(dados)):\n",
        "      print(\"(%a,%a)\" % (dados[i][0], round(Pn(dados[i][0]), 4)))"
      ],
      "execution_count": 0,
      "outputs": []
    },
    {
      "cell_type": "markdown",
      "metadata": {
        "id": "zOmaR-h1Uwx1",
        "colab_type": "text"
      },
      "source": [
        "# Método de Lagrange"
      ]
    },
    {
      "cell_type": "markdown",
      "metadata": {
        "id": "dIcmjiEB9NuV",
        "colab_type": "text"
      },
      "source": [
        "## Forma Geral do Polinômio de Lagrange\n",
        "\n",
        "Ambas as versões de primeira e segunda ordem bem como os polinômios de Lagrange de ordem superior podem ser representados concisamente por\n",
        "\n",
        "$$f_{n-1} = \\sum_{i=1}^n L_i(x)f(x_i)$$\n",
        "\n",
        "sendo\n",
        "\n",
        "$$L_i(x) = \\prod_{j=1\\\\j \\neq i}^n \\frac{x-x_j}{x_i-x_j}$$\n",
        "\n",
        "onde $n$ é o número de pontos dados e $\\prod$ indica o \"produto de\"."
      ]
    },
    {
      "cell_type": "markdown",
      "metadata": {
        "id": "-aESDZcEiWI8",
        "colab_type": "text"
      },
      "source": [
        "## Implementação"
      ]
    },
    {
      "cell_type": "code",
      "metadata": {
        "id": "QSUftc-FUy3M",
        "colab_type": "code",
        "outputId": "5a5f8463-8d02-4a06-ef93-9b876ed26cdd",
        "colab": {
          "base_uri": "https://localhost:8080/",
          "height": 74
        }
      },
      "source": [
        "  Pn = 0\n",
        " \n",
        "  for k in range(len(dados)):\n",
        "      numerador = P([1])\n",
        "      denominador = P([1])\n",
        "      for j in range(len(dados)):  \n",
        "          if j == k:  \n",
        "              continue\n",
        "          numerador *= P([-dados[j][0], 1])  \n",
        "          denominador *= dados[k][0] - dados[j][0] \n",
        "      Pn = Pn + dados[k][1] * (numerador // denominador)  \n",
        "  funcao = list(Pn)  \n",
        "  texto = \"\"\n",
        "\n",
        "  for i in range(len(funcao)):\n",
        "      if funcao[i] == 0:\n",
        "          continue\n",
        "      elif i == 0:\n",
        "          texto += str(funcao[i])\n",
        "      else:\n",
        "          texto += \" + \" + str(funcao[i])\n",
        "          texto += (\"*x^%o\" % (i))\n",
        "  print(\"Pn(x) :\")\n",
        "  print(texto)\n",
        "\n"
      ],
      "execution_count": 0,
      "outputs": [
        {
          "output_type": "stream",
          "text": [
            "Pn(x) :\n",
            "-106.62186318903184 + 68.49065514675729*x^1 + -8.172822671299768*x^2 + 0.4390063625341031*x^3 + -0.013097612480873334*x^4 + 0.0002349340829313332*x^5 + -2.587166443080426e-06*x^6 + 1.7061283853265856e-08*x^7 + -6.154584225651295e-11*x^10 + 9.294685567009753e-14*x^11\n"
          ],
          "name": "stdout"
        }
      ]
    },
    {
      "cell_type": "code",
      "metadata": {
        "id": "04l6yTb9U1m3",
        "colab_type": "code",
        "colab": {}
      },
      "source": [
        "  s = input(\"Deseja calcular Pn(x) dado um valor de x? \\n [S/N]\").lower() \n",
        "  \n",
        "  if s == \"s\":\n",
        "      print(\"Pn(x) em qual ponto?\")\n",
        "      p = float(input())\n",
        "      print(\"Pn(%a) é igual a %a\" % (p, Pn(p)))\n",
        " \n",
        "  s = input(\"Encontrar os valores de x dado um valor de Pn(x)? \\n [S/N]\") \n",
        "  \n",
        "  if s == \"s\":\n",
        "      print(\"Valores de x para qual valor de Pn(x)\")\n",
        "      p = float(input())\n",
        "      print(\"para Pn(x)=%a temos: \" % p, polynomial.polynomial.polyroots(list(Pn - P([p]))),\"Obs: Se houver, j = raiz de menos 1\")\n",
        "      \n",
        "  print(\"(x,Pn(x))\")\n",
        "  for i in range(len(dados)):\n",
        "      print(\"(%a,%a)\" % (dados[i][0], round(Pn(dados[i][0]), 4)))"
      ],
      "execution_count": 0,
      "outputs": []
    },
    {
      "cell_type": "markdown",
      "metadata": {
        "id": "2uULK_YQVFW4",
        "colab_type": "text"
      },
      "source": [
        "# Método Spline"
      ]
    },
    {
      "cell_type": "markdown",
      "metadata": {
        "id": "k8LmurT29omv",
        "colab_type": "text"
      },
      "source": [
        "Um spline é uma curva definida matematicamente por dois ou mais pontos de controle. Os pontos de controle que ficam na curva são chamados de nós. Os demais pontos definem a tangente à curva em seus respectivos nós."
      ]
    },
    {
      "cell_type": "markdown",
      "metadata": {
        "id": "Qvzy0D-BieaY",
        "colab_type": "text"
      },
      "source": [
        "##Implementação"
      ]
    },
    {
      "cell_type": "code",
      "metadata": {
        "id": "8dd9fCSQeT1c",
        "colab_type": "code",
        "colab": {}
      },
      "source": [
        "X = ([169,75,83,45,84,2,24,78,47,139])\n",
        "y = ([0.609,0.959,0.854,0.982,0.993,0.978,0.957,0.940,0.970,0.927])\n",
        "X = np.array(X)\n",
        "y = np.array(y)\n"
      ],
      "execution_count": 0,
      "outputs": []
    },
    {
      "cell_type": "code",
      "metadata": {
        "id": "MJZIxLoB8IAi",
        "colab_type": "code",
        "colab": {}
      },
      "source": [
        "def met_splines(array):\n",
        "  int_splines = []\n",
        "  for valor in array:\n",
        "    x = valor\n",
        "    pos = bisect(X,valor)\n",
        "    if pos == len(y):\n",
        "      pos-=1\n",
        "    x2 = X[pos]\n",
        "    x1 = X[pos-1]\n",
        "    y2 = y[pos]\n",
        "    y1 = y[pos-1]\n",
        "    int_splines.append(y1 + (y2-y1)/(x2-x1)*(x-x1))\n",
        "  return int_splines\n",
        "  "
      ],
      "execution_count": 0,
      "outputs": []
    },
    {
      "cell_type": "code",
      "metadata": {
        "id": "sphV8LDd8Kja",
        "colab_type": "code",
        "outputId": "b8f295f8-a099-40bf-b574-bd98c26b1f1e",
        "colab": {
          "base_uri": "https://localhost:8080/",
          "height": 201
        }
      },
      "source": [
        "int_splines = met_splines(X)\n",
        "int_splines"
      ],
      "execution_count": 0,
      "outputs": [
        {
          "output_type": "execute_result",
          "data": {
            "text/plain": [
              "[0.9129782608695652,\n",
              " 0.9569130434782609,\n",
              " 0.9531739130434782,\n",
              " 0.9503888888888888,\n",
              " 0.9527065217391304,\n",
              " 0.978,\n",
              " 0.957,\n",
              " 0.9555108695652174,\n",
              " 0.97,\n",
              " 0.927]"
            ]
          },
          "metadata": {
            "tags": []
          },
          "execution_count": 88
        }
      ]
    },
    {
      "cell_type": "markdown",
      "metadata": {
        "id": "bbRdpxN7ZqWC",
        "colab_type": "text"
      },
      "source": [
        "# Conclusão"
      ]
    },
    {
      "cell_type": "markdown",
      "metadata": {
        "id": "xlieiQJ8ZuGj",
        "colab_type": "text"
      },
      "source": [
        "Com o que foi apresentado é possivel concluir que os paises que possuem colocações mais elevadas no Rank do IDH, apersentam grau de disparidade de genero menor.  Porém, quanto aos métodos utilizamos é notável que os métodos de Newton e de Lagrange apresentam desempenho semelhante representando o mesmo polinômio. Já no que diz respeito ao Spline encontrei certa dificuldade em sua implementação.\n",
        "Contudo, foi constatado que cada método está sujeito a diferentes erros de aproximação, mesmo que pequeno, o que torna as suas saídas levemente diferentes."
      ]
    }
  ]
}