{
  "nbformat": 4,
  "nbformat_minor": 0,
  "metadata": {
    "colab": {
      "name": "Raylle_Cordeiro_Prova3_metodos_numericos_20191.ipynb",
      "version": "0.3.2",
      "provenance": [],
      "collapsed_sections": [
        "bkVT21BVBpwZ"
      ],
      "include_colab_link": true
    },
    "kernelspec": {
      "name": "python3",
      "display_name": "Python 3"
    }
  },
  "cells": [
    {
      "cell_type": "markdown",
      "metadata": {
        "id": "view-in-github",
        "colab_type": "text"
      },
      "source": [
        "<a href=\"https://colab.research.google.com/github/cordeiroraylle/Calculo-Numerico/blob/master/Prova3_metodos_numericos_20191.ipynb\" target=\"_parent\"><img src=\"https://colab.research.google.com/assets/colab-badge.svg\" alt=\"Open In Colab\"/></a>"
      ]
    },
    {
      "cell_type": "code",
      "metadata": {
        "id": "wiSJKdIx6DkO",
        "colab_type": "code",
        "colab": {}
      },
      "source": [
        "import math\n",
        "import numpy as np\n",
        "from scipy.linalg import solve_triangular\n",
        "import matplotlib.pyplot as plot\n",
        "np.set_printoptions(formatter={'float': lambda x: \"{:.4f}\".format(x)})"
      ],
      "execution_count": 0,
      "outputs": []
    },
    {
      "cell_type": "code",
      "metadata": {
        "id": "G9ct_LE4JAOe",
        "colab_type": "code",
        "cellView": "both",
        "colab": {}
      },
      "source": [
        "#@title 3ª Prova métodos numéricos 2019.1\n",
        "nome = \"Raylle Cordeiro\" #@param {type:\"string\"}\n",
        "matricula = \"20172610014\" #@param {type:\"string\"}"
      ],
      "execution_count": 0,
      "outputs": []
    },
    {
      "cell_type": "markdown",
      "metadata": {
        "id": "PKwVPhb8QxDG",
        "colab_type": "text"
      },
      "source": [
        "### Formulário de entrega: https://forms.gle/dW2abz429GgjDzJS7"
      ]
    },
    {
      "cell_type": "code",
      "metadata": {
        "id": "SOolasis5p_7",
        "colab_type": "code",
        "outputId": "35701ce6-e61b-4e4c-8038-ecc40ae6551d",
        "colab": {
          "base_uri": "https://localhost:8080/",
          "height": 35
        }
      },
      "source": [
        "print(f'{nome} - {matricula} - 3ª Prova de Métodos Numéricos 2019.1')"
      ],
      "execution_count": 0,
      "outputs": [
        {
          "output_type": "stream",
          "text": [
            "Raylle Cordeiro - 20172610014 - 3ª Prova de Métodos Numéricos 2019.1\n"
          ],
          "name": "stdout"
        }
      ]
    },
    {
      "cell_type": "markdown",
      "metadata": {
        "id": "l8eCAJ6wLq73",
        "colab_type": "text"
      },
      "source": [
        "# Questões"
      ]
    },
    {
      "cell_type": "markdown",
      "metadata": {
        "id": "S4ot-OtDWVRa",
        "colab_type": "text"
      },
      "source": [
        "# Só tenho certeza da 4. As outras podem ta com o f(x) e o h errados mas o resto dos códigos tao ok, testei com outros valores"
      ]
    },
    {
      "cell_type": "markdown",
      "metadata": {
        "id": "5yuqHAJW6mRx",
        "colab_type": "text"
      },
      "source": [
        "### 1. Utilizando diferenças finitas, calcule $f'(2.36)$ e $f'(2.39)$ a partir dos seguintes dados:\n",
        "\n",
        "x|$f(x)$\n",
        "--|--\n",
        "2.36|0.85866\n",
        "2.37|0.86289\n",
        "2.38|0.86710\n",
        "2.39|0.87129"
      ]
    },
    {
      "cell_type": "code",
      "metadata": {
        "id": "Ie8VXK1EERNz",
        "colab_type": "code",
        "colab": {}
      },
      "source": [
        "#Assumindo que h=0.01 e fazendo uma regressão polinomial dos dados fornecidos, temos que: : \n",
        "#   f(x) =  0.875x² - 3.7391x + 4.8097\n",
        "\n",
        "def fx(x):\n",
        "   return 0.875*(x**2) - 3.7391*x + 4.8097  "
      ],
      "execution_count": 0,
      "outputs": []
    },
    {
      "cell_type": "code",
      "metadata": {
        "id": "aiVbme-EFpRV",
        "colab_type": "code",
        "colab": {}
      },
      "source": [
        "def derivada(fx,x,h):\n",
        "  return ((fx(x+h))-(fx(x-h)))/(2*h)        # diferença finita central"
      ],
      "execution_count": 0,
      "outputs": []
    },
    {
      "cell_type": "code",
      "metadata": {
        "id": "_vRWse3FGJD-",
        "colab_type": "code",
        "outputId": "4c7bd699-25e6-4dc6-975f-5c10b9b3d7f1",
        "colab": {
          "base_uri": "https://localhost:8080/",
          "height": 34
        }
      },
      "source": [
        "# Para f'(2.36), fazendo h = 0.01:\n",
        "R_36= derivada(fx,2.36,0.1)\n",
        "R_36"
      ],
      "execution_count": 91,
      "outputs": [
        {
          "output_type": "execute_result",
          "data": {
            "text/plain": [
              "0.39089999999999847"
            ]
          },
          "metadata": {
            "tags": []
          },
          "execution_count": 91
        }
      ]
    },
    {
      "cell_type": "code",
      "metadata": {
        "id": "DamNloCNVqGh",
        "colab_type": "code",
        "colab": {
          "base_uri": "https://localhost:8080/",
          "height": 34
        },
        "outputId": "90b3b987-eac5-4e27-baba-38529a5c0648"
      },
      "source": [
        "# Valor real da derivada de f(2.36):\n",
        "print ((2*0.875*2.36) - 3.7391)"
      ],
      "execution_count": 92,
      "outputs": [
        {
          "output_type": "stream",
          "text": [
            "0.3908999999999998\n"
          ],
          "name": "stdout"
        }
      ]
    },
    {
      "cell_type": "code",
      "metadata": {
        "id": "pFqnOnk7IWrU",
        "colab_type": "code",
        "outputId": "32a9ed3e-701c-413d-9143-8d000e475a3f",
        "colab": {
          "base_uri": "https://localhost:8080/",
          "height": 34
        }
      },
      "source": [
        "# Para f'(2.39), fazendo h = 0.01:\n",
        "R_39= derivada(fx,2.39,0.1)\n",
        "R_39"
      ],
      "execution_count": 93,
      "outputs": [
        {
          "output_type": "execute_result",
          "data": {
            "text/plain": [
              "0.44340000000000046"
            ]
          },
          "metadata": {
            "tags": []
          },
          "execution_count": 93
        }
      ]
    },
    {
      "cell_type": "code",
      "metadata": {
        "id": "qcynxBvfgbLc",
        "colab_type": "code",
        "outputId": "ae28155b-a9b0-4d9f-bf77-0b711c955615",
        "colab": {
          "base_uri": "https://localhost:8080/",
          "height": 34
        }
      },
      "source": [
        "# Valor real da derivada de f(2.39):\n",
        "print ((2*0.875*2.39) - 3.7391)"
      ],
      "execution_count": 94,
      "outputs": [
        {
          "output_type": "stream",
          "text": [
            "0.4434\n"
          ],
          "name": "stdout"
        }
      ]
    },
    {
      "cell_type": "markdown",
      "metadata": {
        "id": "5Kwa1-XT-_mx",
        "colab_type": "text"
      },
      "source": [
        "### 2.Estime $f'(1)$ e $f''(1)$ o mais preciso possível a partir dos dados:\n",
        "\n",
        "\n",
        "x|$f(x)\n",
        "--|--\n",
        "0.97|0.85040\n",
        "1.00|0.84147\n",
        "1.05|0.82612\n",
        "\n",
        "Justifique a escolha do método."
      ]
    },
    {
      "cell_type": "markdown",
      "metadata": {
        "id": "FlAgR6nXagY3",
        "colab_type": "text"
      },
      "source": [
        "Apesar da diferenciação numérica não ser um procedimento muito preciso, devido aos erros de arredondamento e do processo de interpolação,  escolhi o método Aproximação por Diferenças Finitas Central, pois foi o que apresentou uma melhor precisão quando comparado aos métodos para frente e para trás. Visto que a derivada primeira pelo método para frente foi igual a -0.3128 e para trás -0.2895"
      ]
    },
    {
      "cell_type": "code",
      "metadata": {
        "id": "8_9oQoCoJmOi",
        "colab_type": "code",
        "colab": {}
      },
      "source": [
        "#Assumindo que h=0.1 e fazendo uma regressão polinomial dos dados fornecidos, temos que:  \n",
        "#   f(x) = -0.1167x² - 0.0678x + 1.026\n",
        "\n",
        "def f(x):\n",
        "   return -0.1167*(x**2) - 0.0678*x + 1.026     "
      ],
      "execution_count": 0,
      "outputs": []
    },
    {
      "cell_type": "code",
      "metadata": {
        "id": "hvk8tOnpLfka",
        "colab_type": "code",
        "colab": {}
      },
      "source": [
        "def derivada_primeira(f,x,h):\n",
        "  return ((f(x+h))-(f(x-h)))/(2*h)             #central\n",
        "  #return ((f(x+h))-(f(x)))/(h)                # para frente\n",
        "  #return ((f(x))-(f(x-h)))/(h)                # para tras"
      ],
      "execution_count": 0,
      "outputs": []
    },
    {
      "cell_type": "code",
      "metadata": {
        "id": "uw5HRSlqL3NV",
        "colab_type": "code",
        "colab": {}
      },
      "source": [
        "def derivada_segunda(f,x,h):\n",
        "  return (f(x+h) - 2*f(x) + f(x-h)) /h**2"
      ],
      "execution_count": 0,
      "outputs": []
    },
    {
      "cell_type": "code",
      "metadata": {
        "id": "mm72EhHzVXxn",
        "colab_type": "code",
        "outputId": "846ee8c2-80be-4a73-d127-7626a980fd41",
        "colab": {
          "base_uri": "https://localhost:8080/",
          "height": 34
        }
      },
      "source": [
        "RDP = derivada_primeira(f,1,0.1)\n",
        "RDP"
      ],
      "execution_count": 101,
      "outputs": [
        {
          "output_type": "execute_result",
          "data": {
            "text/plain": [
              "-0.30120000000000036"
            ]
          },
          "metadata": {
            "tags": []
          },
          "execution_count": 101
        }
      ]
    },
    {
      "cell_type": "code",
      "metadata": {
        "id": "hwNfwNBSVnys",
        "colab_type": "code",
        "outputId": "3e7ca9c1-6164-493b-87ad-9e97eada7eda",
        "colab": {
          "base_uri": "https://localhost:8080/",
          "height": 34
        }
      },
      "source": [
        "RDS = derivada_segunda(f,1,0.1)\n",
        "RDS"
      ],
      "execution_count": 102,
      "outputs": [
        {
          "output_type": "execute_result",
          "data": {
            "text/plain": [
              "-0.23340000000000577"
            ]
          },
          "metadata": {
            "tags": []
          },
          "execution_count": 102
        }
      ]
    },
    {
      "cell_type": "code",
      "metadata": {
        "id": "ztUxS7HBdeB1",
        "colab_type": "code",
        "outputId": "873e473c-657d-402e-8e9a-888a716321b8",
        "colab": {
          "base_uri": "https://localhost:8080/",
          "height": 34
        }
      },
      "source": [
        "# Valor real da derivada primeira p/ polinomial:\n",
        "print((2*(-0.1167)*1)- 0.0678)"
      ],
      "execution_count": 103,
      "outputs": [
        {
          "output_type": "stream",
          "text": [
            "-0.3012\n"
          ],
          "name": "stdout"
        }
      ]
    },
    {
      "cell_type": "code",
      "metadata": {
        "id": "QAADiUXmeSzI",
        "colab_type": "code",
        "outputId": "f6497ba9-c13c-4b28-bd63-f9a994d2a6c0",
        "colab": {
          "base_uri": "https://localhost:8080/",
          "height": 34
        }
      },
      "source": [
        "#Valor real da derivada segunda p/ polinomial:\n",
        "print(2*(-0.1167))"
      ],
      "execution_count": 104,
      "outputs": [
        {
          "output_type": "stream",
          "text": [
            "-0.2334\n"
          ],
          "name": "stdout"
        }
      ]
    },
    {
      "cell_type": "markdown",
      "metadata": {
        "id": "bkVT21BVBpwZ",
        "colab_type": "text"
      },
      "source": [
        "### 3. Calcule $f'$ e $f''$ para $x=0$\n",
        "\n",
        "x|$f(x)$\n",
        "--|--\n",
        "-2.2|15.180\n",
        "-0.3|10.962\n",
        "0.8|1.920\n",
        "0.9|-2.040\n",
        "\n",
        "Justifique a escolha do método utilizado para obter as soluções"
      ]
    },
    {
      "cell_type": "markdown",
      "metadata": {
        "id": "thlOCbdWSA3e",
        "colab_type": "text"
      },
      "source": [
        "### Justificativa:\n",
        "\n"
      ]
    },
    {
      "cell_type": "markdown",
      "metadata": {
        "id": "Qg-ryEaPaNJi",
        "colab_type": "text"
      },
      "source": [
        "Apesar da diferenciação numérica não ser um procedimento muito preciso, devido aos erros de arredondamento e do processo de interpolação,  escolhi o método da Aproximação por Diferenças Finitas Central, pois foi o que apresentou uma melhor precisão quando comparado aos métodos para frente e para trás."
      ]
    },
    {
      "cell_type": "code",
      "metadata": {
        "id": "TTC8eSw_KeIF",
        "colab_type": "code",
        "colab": {}
      },
      "source": [
        "# Assumindo que h=0.1 e fazendo uma regressão polinomial dos dados fornecidos, temos que: \n",
        "# f(x) = -2.526x² - 8.4225x + 8.8501\n",
        "\n",
        "def f(x):\n",
        "  return -2.526*(x**2) - 8.225*x + 8.8501"
      ],
      "execution_count": 0,
      "outputs": []
    },
    {
      "cell_type": "code",
      "metadata": {
        "id": "wXzVBmrtKmwm",
        "colab_type": "code",
        "colab": {}
      },
      "source": [
        "def derivada_primeira(f,x,h):\n",
        "   #return (fx(x+h) - fx(x))/h \n",
        "    return ((f(x+h))-(f(x-h)))/(2*h)"
      ],
      "execution_count": 0,
      "outputs": []
    },
    {
      "cell_type": "code",
      "metadata": {
        "id": "htsibBelKmzR",
        "colab_type": "code",
        "outputId": "40b4797a-13af-470b-aed2-a8df38e2a721",
        "colab": {
          "base_uri": "https://localhost:8080/",
          "height": 35
        }
      },
      "source": [
        "RDP = derivada_primeira(f,0,0.1)\n",
        "RDP"
      ],
      "execution_count": 0,
      "outputs": [
        {
          "output_type": "execute_result",
          "data": {
            "text/plain": [
              "-8.224999999999998"
            ]
          },
          "metadata": {
            "tags": []
          },
          "execution_count": 108
        }
      ]
    },
    {
      "cell_type": "code",
      "metadata": {
        "id": "_7UnoxUuKm16",
        "colab_type": "code",
        "colab": {}
      },
      "source": [
        "def derivada_segunda(f,x,h):\n",
        "   return ((f(x+h)) - (2*f(x)) + (f(x-h)))/(h**2)"
      ],
      "execution_count": 0,
      "outputs": []
    },
    {
      "cell_type": "code",
      "metadata": {
        "id": "knN6ZQ9iL7LA",
        "colab_type": "code",
        "outputId": "98791830-e433-463c-df86-4d204dd95aae",
        "colab": {
          "base_uri": "https://localhost:8080/",
          "height": 35
        }
      },
      "source": [
        "RDS = derivada_segunda(f,0,0.1)\n",
        "RDS"
      ],
      "execution_count": 0,
      "outputs": [
        {
          "output_type": "execute_result",
          "data": {
            "text/plain": [
              "-5.051999999999878"
            ]
          },
          "metadata": {
            "tags": []
          },
          "execution_count": 131
        }
      ]
    },
    {
      "cell_type": "code",
      "metadata": {
        "colab_type": "code",
        "outputId": "ebcfb655-8b6c-407e-dddd-ac286f6cb367",
        "id": "7JZZPkcqifXr",
        "colab": {
          "base_uri": "https://localhost:8080/",
          "height": 54
        }
      },
      "source": [
        "# Valor real da derivada primeira p/ polinomial:\n",
        "print(\"f'(x)=\",(2*(-2.526)),'x', - 1*8.225 + 0)\n",
        "print(\"f'(x)=\",(2*(-2.526)*0) - 1*8.225 + 0)"
      ],
      "execution_count": 0,
      "outputs": [
        {
          "output_type": "stream",
          "text": [
            "f'(x)= -5.052 x -8.225\n",
            "f'(x)= -8.225\n"
          ],
          "name": "stdout"
        }
      ]
    },
    {
      "cell_type": "code",
      "metadata": {
        "id": "ol-8d_jHk662",
        "colab_type": "code",
        "outputId": "390b2cf8-ac5b-424b-c2cf-b2ff9dc4d0a9",
        "colab": {
          "base_uri": "https://localhost:8080/",
          "height": 54
        }
      },
      "source": [
        "# Valor real da derivada segunda p/ polinomial:\n",
        "print(\"f''(x)=\",(2*(-2.526)),'x')\n",
        "print(\"f''(x)=\",(1*2*(-2.526)))"
      ],
      "execution_count": 0,
      "outputs": [
        {
          "output_type": "stream",
          "text": [
            "f''(x)= -5.052 x\n",
            "f''(x)= -5.052\n"
          ],
          "name": "stdout"
        }
      ]
    },
    {
      "cell_type": "markdown",
      "metadata": {
        "id": "nytJg_BGPZ-g",
        "colab_type": "text"
      },
      "source": [
        "### 4 Resolva numericamente a integral $I = \\int_{-3}^5(4x-3)^3dx = 2056$ "
      ]
    },
    {
      "cell_type": "code",
      "metadata": {
        "id": "05D5fwnR3ynL",
        "colab_type": "code",
        "colab": {}
      },
      "source": [
        "def f(x):\n",
        "  return (4*x - 3)**3"
      ],
      "execution_count": 0,
      "outputs": []
    },
    {
      "cell_type": "code",
      "metadata": {
        "id": "ZNXHioyv3_0C",
        "colab_type": "code",
        "colab": {}
      },
      "source": [
        "def integral(f,a,b,n):\n",
        "  h = (b-a)/n\n",
        "  return h/2 * (f(a) + 2*(a+h) + 2*(a+2*h) + f(b))\n",
        "  "
      ],
      "execution_count": 0,
      "outputs": []
    },
    {
      "cell_type": "code",
      "metadata": {
        "id": "uqxt4NUB4na3",
        "colab_type": "code",
        "outputId": "6c383b4c-e43b-434d-a14b-c36e175f3e90",
        "colab": {
          "base_uri": "https://localhost:8080/",
          "height": 35
        }
      },
      "source": [
        "r = integral(f,-3,5,3)\n",
        "r"
      ],
      "execution_count": 0,
      "outputs": [
        {
          "output_type": "execute_result",
          "data": {
            "text/plain": [
              "2056.0"
            ]
          },
          "metadata": {
            "tags": []
          },
          "execution_count": 195
        }
      ]
    },
    {
      "cell_type": "markdown",
      "metadata": {
        "id": "-JZnipy8QIZj",
        "colab_type": "text"
      },
      "source": [
        "### 5 Usando a regra dos Trapézios e APENAS os valores da tabela mostre que é possível obter $I = \\int_0^\\pi f(x) = 2.00$\n",
        "\n",
        "x | $f(x)$\n",
        "---|---\n",
        "0|0\n",
        "$\\frac{\\pi}{4}$|0.707\n",
        "$\\frac{\\pi}{2}$|1\n",
        "$\\frac{3\\pi}{4}$|0.707\n",
        "$\\pi$|0"
      ]
    },
    {
      "cell_type": "code",
      "metadata": {
        "id": "XJVnh7y4RExD",
        "colab_type": "code",
        "colab": {}
      },
      "source": [
        "# Através da regressão polinomial dos dados fornecidos, temos que: \n",
        "# f(x) = 0.0362² + 0.2092x + 0.3098\n",
        "\n",
        "def f(x):\n",
        "  return 0.0362*(x**2) + 0.2092*x + 0.3098   \n",
        "  "
      ],
      "execution_count": 0,
      "outputs": []
    },
    {
      "cell_type": "code",
      "metadata": {
        "id": "FSlKxxm9fxQK",
        "colab_type": "code",
        "colab": {}
      },
      "source": [
        "def trapezio(f,a,b,n):\n",
        "    h = (b-a)/n\n",
        "    I = f(a)\n",
        "    for i in range(1,n):\n",
        "        I += 2*f(a+i*h)\n",
        "    I+=f(b)\n",
        "    I*=h/2\n",
        "    return I"
      ],
      "execution_count": 0,
      "outputs": []
    },
    {
      "cell_type": "code",
      "metadata": {
        "id": "QOirKusCfz9J",
        "colab_type": "code",
        "colab": {
          "base_uri": "https://localhost:8080/",
          "height": 34
        },
        "outputId": "e25a8fa6-e66f-4158-d264-fb5566fba399"
      },
      "source": [
        "r = trapezio(f,0, math.pi, 5)\n",
        "r"
      ],
      "execution_count": 131,
      "outputs": [
        {
          "output_type": "execute_result",
          "data": {
            "text/plain": [
              "2.387251277817195"
            ]
          },
          "metadata": {
            "tags": []
          },
          "execution_count": 131
        }
      ]
    },
    {
      "cell_type": "markdown",
      "metadata": {
        "id": "6mUeYbY8XcDZ",
        "colab_type": "text"
      },
      "source": [
        "### 6 Calcule a integral dupla abaixo aplicando as DUAS regras de Simpson com a mesma quantidade de intervalos\n",
        "\n",
        "$$\\int_{-2}^2\\int_{0}^4 (x^2-3y^2+xy^3)dxdy$$"
      ]
    },
    {
      "cell_type": "code",
      "metadata": {
        "colab_type": "code",
        "id": "mPOb2VNJqUna",
        "outputId": "c06cacf1-a017-4539-fd7e-16037173a8b6",
        "colab": {
          "base_uri": "https://localhost:8080/",
          "height": 34
        }
      },
      "source": [
        "# para a primeira regra de simpson (1/3)\n",
        "a = 0\n",
        "b = 4\n",
        "h = (b - a)/2\n",
        "\n",
        "x0 = a\n",
        "x1 = x0 + h\n",
        "x2 = x0 + 2*h\n",
        "\n",
        "\n",
        "y=0\n",
        "gx0 = ((x0**2) - 4*(3*(y**2)) + x0*(y**3))\n",
        "gx1 = ((x1**2) - 4*(3*(y**2)) + x1*(y**3))\n",
        "gx2 = ((x2**2) - 4*(3*(y**2)) + x2*(y**3))\n",
        "\n",
        "\n",
        "I = h/3* (gx0 + 4*gx1 + 2*gx2)\n",
        "\n",
        "\n",
        "#G0 =  h/3 * (x0**2 - 3*y1**2) + 4*(0**2 - 3*y2**2) + (0* y3**3)\n",
        "\n",
        "# para a segunda regra de simpson (3/8)\n",
        "a1 = -2\n",
        "b1 = 2\n",
        "h1 = (b1 - a1)/3\n",
        "\n",
        "y0 = a1\n",
        "y1 = a1 + h1\n",
        "y2 = a1 + 2*h1\n",
        "\n",
        "\n",
        "J0 = 3/8 * h1 * (((x0**2) - (3*(y1**2)) + x0*(y2**3))  +  4*((x0**2) -(3*(y1**2)) + x0*(y2**3))  + ((x0**2) - 4*(3*(y1**2)) + x0*(y2**3)))\n",
        "J1 = 3/8 * h1 * (((x1**2) - (3*(y1**2)) + x1*(y2**3))  +  4*((x1**2) -(3*(y1**2)) + x1*(y2**3))  + ((x1**2) - 4*(3*(y1**2)) + x1*(y2**3)))\n",
        "J2 = 3/8 * h1 * (((x2**2) - (3*(y1**2)) + x2*(y2**3))  +  4*((x2**2) -(3*(y1**2)) + x2*(y2**3))  + ((x2**2) - 4*(3*(y1**2)) + x2*(y2**3)))\n",
        "\n",
        "r = (1/3)*h1* (J0 + J1 + J2)\n",
        "print(r)"
      ],
      "execution_count": 26,
      "outputs": [
        {
          "output_type": "stream",
          "text": [
            "21.037037037037035\n"
          ],
          "name": "stdout"
        }
      ]
    },
    {
      "cell_type": "markdown",
      "metadata": {
        "id": "mDtgxR30RGMe",
        "colab_type": "text"
      },
      "source": [
        "### 7  Resolva o seguinte problema de valor inicial no intervalo de x = -1 a 1 em que y(-1) = 1/e.\n",
        "$$\\frac{dy}{dx} = e^{2x+1}+3x^2+y$$\n",
        "\n",
        "#### a. Usando um método de segunda ordem com h=0.01\n",
        "#### b. Usando RK4 com h=0.05"
      ]
    },
    {
      "cell_type": "markdown",
      "metadata": {
        "id": "mVD0aa9z-pXT",
        "colab_type": "text"
      },
      "source": [
        ">*obs: verificar isso do intervalo* \n",
        "\n"
      ]
    },
    {
      "cell_type": "code",
      "metadata": {
        "id": "zylJIwssYIM3",
        "colab_type": "code",
        "colab": {}
      },
      "source": [
        "# a) Resolução com método de segunda ordem e com h=0.01:\n",
        "\n",
        "def fxy(x,y):\n",
        "   return np.exp(2*x+1) + 3*(x**2) + y\n",
        "  "
      ],
      "execution_count": 0,
      "outputs": []
    },
    {
      "cell_type": "code",
      "metadata": {
        "id": "92_cLjQQYIYV",
        "colab_type": "code",
        "colab": {}
      },
      "source": [
        "def metodo_heun(fxy, x0, y0, xf, h):\n",
        "    it = int((xf-x0)/h)\n",
        "    y = np.zeros(it+1)\n",
        "    y[0] = y0\n",
        "    for i in range(it):\n",
        "        xi = x0 + i*h\n",
        "        k1 = fxy(xi,y[i])\n",
        "        k2 = fxy(xi + h,y[i] + h*k1)\n",
        "        y[i+1] = y[i] + (k1+k2) *h/2\n",
        "    return y"
      ],
      "execution_count": 0,
      "outputs": []
    },
    {
      "cell_type": "code",
      "metadata": {
        "id": "FTnTV1fUYIe7",
        "colab_type": "code",
        "outputId": "c69326f3-9591-4181-ebaf-16a779f9f331",
        "colab": {
          "base_uri": "https://localhost:8080/",
          "height": 34
        }
      },
      "source": [
        "R = metodo_heun(fxy,-1,1/np.exp(1),1,0.01)  #Para duas iterações, com o intervalo de x valendo 1\n",
        "R[-1]"
      ],
      "execution_count": 0,
      "outputs": [
        {
          "output_type": "execute_result",
          "data": {
            "text/plain": [
              "27.252355130716648"
            ]
          },
          "metadata": {
            "tags": []
          },
          "execution_count": 12
        }
      ]
    },
    {
      "cell_type": "code",
      "metadata": {
        "id": "Uc7oY0RJ7cM5",
        "colab_type": "code",
        "colab": {}
      },
      "source": [
        "# b) Resolução com RK4 classico e com h=0.05:\n",
        "def metodo_rk4(fxy, x0, y0, xf, h):\n",
        "    it = int((xf-x0)/h)\n",
        "    y = np.zeros(it+1)\n",
        "    y[0] = y0\n",
        "    for i in range(it):\n",
        "        xi = x0+i*h\n",
        "        k1 = fxy(xi, y[i])\n",
        "        k2 = fxy(xi + h/2,y[i] + h/2*k1)\n",
        "        k3 = fxy(xi + h/2,y[i] + h/2*k2)\n",
        "        k4 = fxy(xi + h,y[i] + h*k3)\n",
        "        y[i+1] = y[i] + 1/6 * (k1 + 2*k2 + 2*k3 + k4)*h\n",
        "    return y\n"
      ],
      "execution_count": 0,
      "outputs": []
    },
    {
      "cell_type": "code",
      "metadata": {
        "id": "V6Dlux8e8Yx8",
        "colab_type": "code",
        "outputId": "abf50c83-3c81-441f-f1ec-a3b1441e5193",
        "colab": {
          "base_uri": "https://localhost:8080/",
          "height": 34
        }
      },
      "source": [
        "Rk = metodo_rk4(fxy,-1,1/np.exp(1),1,0.05)   #Para duas iterações, com o intervalo de x valendo 1\n",
        "Rk[-1]"
      ],
      "execution_count": 0,
      "outputs": [
        {
          "output_type": "execute_result",
          "data": {
            "text/plain": [
              "27.252702305431153"
            ]
          },
          "metadata": {
            "tags": []
          },
          "execution_count": 14
        }
      ]
    },
    {
      "cell_type": "markdown",
      "metadata": {
        "id": "XlFwv8WOYJ4n",
        "colab_type": "text"
      },
      "source": [
        "### 8 Dado o problema de valor inicial abaixo:\n",
        "$$y'(x) = \\frac{1}{x}(2y+x+1)$$\n",
        "$$y(1) = 0.5$$\n",
        "\n",
        "### Calcule y(100) usando o método de Heun com h=0.2"
      ]
    },
    {
      "cell_type": "code",
      "metadata": {
        "id": "5MtpB_qCtfLr",
        "colab_type": "code",
        "colab": {}
      },
      "source": [
        "def fxy(x,y):\n",
        "   return (1/x) * (2*y + x + 1)"
      ],
      "execution_count": 0,
      "outputs": []
    },
    {
      "cell_type": "code",
      "metadata": {
        "id": "FW06BA8TthFY",
        "colab_type": "code",
        "colab": {}
      },
      "source": [
        "def metodo_heun(fxy, x0, y0, xf, h):\n",
        "    it = int((xf-x0)/h)\n",
        "    y = np.zeros(it+1)\n",
        "    y[0] = y0\n",
        "    for i in range(it):\n",
        "        xi = x0+i*h\n",
        "        k1 = fxy(xi,y[i])\n",
        "        k2 = fxy(xi+h,y[i]+h*k1)\n",
        "        y[i+1] = y[i] + (k1+k2)*h/2\n",
        "    return y"
      ],
      "execution_count": 0,
      "outputs": []
    },
    {
      "cell_type": "code",
      "metadata": {
        "id": "iJd6V4XfuFVt",
        "colab_type": "code",
        "outputId": "0b660577-0dad-408f-ac96-2c2d80e82764",
        "colab": {
          "base_uri": "https://localhost:8080/",
          "height": 35
        }
      },
      "source": [
        "R = metodo_heun(fxy,1,0.5,100,0.2)  # Para 2 iterações\n",
        "R[-1]"
      ],
      "execution_count": 0,
      "outputs": [
        {
          "output_type": "execute_result",
          "data": {
            "text/plain": [
              "19573.938760563185"
            ]
          },
          "metadata": {
            "tags": []
          },
          "execution_count": 82
        }
      ]
    },
    {
      "cell_type": "code",
      "metadata": {
        "id": "zx7o4HGZ52yb",
        "colab_type": "code",
        "outputId": "decb8c1e-4741-4d3b-8960-205e1dd93848",
        "colab": {
          "base_uri": "https://localhost:8080/",
          "height": 35
        }
      },
      "source": [
        "R = metodo_heun(fxy,1,0.5,100,0.02)  # Para 10 iterações\n",
        "R[-1]"
      ],
      "execution_count": 0,
      "outputs": [
        {
          "output_type": "execute_result",
          "data": {
            "text/plain": [
              "19895.579978154678"
            ]
          },
          "metadata": {
            "tags": []
          },
          "execution_count": 83
        }
      ]
    }
  ]
}